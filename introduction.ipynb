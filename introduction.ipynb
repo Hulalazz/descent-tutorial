{
 "cells": [
  {
   "cell_type": "code",
   "execution_count": 13,
   "metadata": {
    "collapsed": false
   },
   "outputs": [],
   "source": [
    "import numpy as np\n",
    "import descent\n",
    "import matplotlib.pyplot as plt\n",
    "from IPython.html.widgets import interact\n",
    "%matplotlib inline"
   ]
  },
  {
   "cell_type": "markdown",
   "metadata": {},
   "source": [
    "# Introduction to the descent package"
   ]
  },
  {
   "cell_type": "markdown",
   "metadata": {},
   "source": [
    "Let's say we want to optimize the following:"
   ]
  },
  {
   "cell_type": "markdown",
   "metadata": {},
   "source": [
    "$$ \\text{minimize}\\quad f(x) $$"
   ]
  },
  {
   "cell_type": "markdown",
   "metadata": {},
   "source": [
    "given a computable expression for $f(x)$ and $\\nabla f(x)$."
   ]
  },
  {
   "cell_type": "markdown",
   "metadata": {},
   "source": [
    "## Organization"
   ]
  },
  {
   "cell_type": "markdown",
   "metadata": {},
   "source": [
    "Descent contains a number of agorithms that can be used to perform unconstrained and constrained optimization. These algorithms are split into two types, the _first-order gradient-based algorithms_ and _proximal algorithms_.\n",
    "\n",
    "Proximal algorithms:\n",
    "- Proximal Consensus / Alternating direction method of multipliers (ADMM)\n",
    "- Proximal gradient descent\n",
    "- Accelerated proximal gradient descent\n",
    "\n",
    "First-order gradient-based algorithms:\n",
    "- Gradient descent (can be stochastic, with or without momentum)\n",
    "- [Stochastic average gradient (SAG)](http://arxiv.org/abs/1309.2388)\n",
    "- RMSProp\n",
    "- [Adam](http://arxiv.org/abs/1412.6980)\n"
   ]
  },
  {
   "cell_type": "markdown",
   "metadata": {},
   "source": [
    "## Toy example\n",
    "\n",
    "For an introductory example, consider the following toy function (a quadratic):\n",
    "$$ f(x) = \\frac{1}{2} x^Tx $$"
   ]
  },
  {
   "cell_type": "code",
   "execution_count": 16,
   "metadata": {
    "collapsed": true
   },
   "outputs": [],
   "source": [
    "# quadratic in n-dimensions\n",
    "def f_df(x):\n",
    "    objective = 0.5 * x.T.dot(x)\n",
    "    gradient = x\n",
    "    return objective, gradient"
   ]
  },
  {
   "cell_type": "code",
   "execution_count": 17,
   "metadata": {
    "collapsed": false
   },
   "outputs": [],
   "source": [
    "# initial guess\n",
    "x0 = np.random.randn(10)"
   ]
  },
  {
   "cell_type": "code",
   "execution_count": 18,
   "metadata": {
    "collapsed": false,
    "scrolled": true
   },
   "outputs": [
    {
     "name": "stdout",
     "output_type": "stream",
     "text": [
      "tol: tolerance(obj=1e-18, param=1e-18, grad=1e-16)\n",
      "+-------------------+--------------------+-------------------+\n",
      "|Iteration          | Objective          | Iteration runtime |\n",
      "+-------------------+--------------------+-------------------+\n",
      "|                 1 |             3.7035 |         241.041 μs|\n",
      "|                 2 |             2.9998 |         735.998 μs|\n",
      "|                 3 |             2.4298 |          493.05 μs|\n",
      "|                 4 |             1.9682 |         494.003 μs|\n",
      "|                 5 |             1.5942 |         481.844 μs|\n",
      "|                 6 |             1.2913 |          416.04 μs|\n",
      "|                 7 |              1.046 |           382.9 μs|\n",
      "|                 8 |            0.84724 |         444.889 μs|\n",
      "|                 9 |            0.68626 |         433.922 μs|\n",
      "|                10 |            0.55587 |         428.915 μs|\n",
      "|                11 |            0.45026 |          367.88 μs|\n",
      "|                12 |            0.36471 |         377.893 μs|\n",
      "|                13 |            0.29541 |         401.974 μs|\n",
      "|                14 |            0.23928 |         447.989 μs|\n",
      "|                15 |            0.19382 |         370.979 μs|\n",
      "|                16 |            0.15699 |           428.2 μs|\n",
      "|                17 |            0.12717 |         581.026 μs|\n",
      "|                18 |              0.103 |         571.966 μs|\n",
      "|                19 |           0.083433 |          401.02 μs|\n",
      "|                20 |           0.067581 |         540.018 μs|\n",
      "|                21 |           0.054741 |         407.934 μs|\n",
      "|                22 |            0.04434 |         381.947 μs|\n",
      "|                23 |           0.035915 |         447.035 μs|\n",
      "|                24 |           0.029091 |         616.074 μs|\n",
      "|                25 |           0.023564 |         463.963 μs|\n",
      "|                26 |           0.019087 |         354.052 μs|\n",
      "|                27 |            0.01546 |         342.846 μs|\n",
      "|                28 |           0.012523 |         331.879 μs|\n",
      "|                29 |           0.010144 |         365.019 μs|\n",
      "|                30 |          0.0082163 |         656.128 μs|\n",
      "|                31 |          0.0066552 |         645.876 μs|\n",
      "|                32 |          0.0053907 |         503.063 μs|\n",
      "|                33 |          0.0043665 |         733.852 μs|\n",
      "|                34 |          0.0035368 |         779.152 μs|\n",
      "|                35 |          0.0028648 |         860.929 μs|\n",
      "|                36 |          0.0023205 |         938.892 μs|\n",
      "|                37 |          0.0018796 |          817.06 μs|\n",
      "|                38 |          0.0015225 |         825.882 μs|\n",
      "|                39 |          0.0012332 |         821.114 μs|\n",
      "|                40 |         0.00099891 |         824.928 μs|\n",
      "|                41 |         0.00080911 |         913.143 μs|\n",
      "|                42 |         0.00065538 |         936.031 μs|\n",
      "|                43 |         0.00053086 |         787.973 μs|\n",
      "|                44 |            0.00043 |         941.038 μs|\n",
      "|                45 |          0.0003483 |         983.953 μs|\n",
      "|                46 |         0.00028212 |         912.905 μs|\n",
      "|                47 |         0.00022852 |         647.068 μs|\n",
      "|                48 |          0.0001851 |         679.016 μs|\n",
      "|                49 |         0.00014993 |         635.862 μs|\n",
      "|                50 |         0.00012144 |         689.983 μs|\n",
      "|                51 |         9.8369e-05 |         628.948 μs|\n",
      "|                52 |         7.9679e-05 |         616.074 μs|\n",
      "|                53 |          6.454e-05 |         589.848 μs|\n",
      "|                54 |         5.2278e-05 |         495.195 μs|\n",
      "|                55 |         4.2345e-05 |         566.959 μs|\n",
      "|                56 |         3.4299e-05 |          578.88 μs|\n",
      "|                57 |         2.7782e-05 |         559.092 μs|\n",
      "|                58 |         2.2504e-05 |         534.058 μs|\n",
      "|                59 |         1.8228e-05 |         663.996 μs|\n",
      "|                60 |         1.4765e-05 |         594.139 μs|\n",
      "|                61 |         1.1959e-05 |         647.068 μs|\n",
      "|                62 |         9.6871e-06 |         649.929 μs|\n",
      "|                63 |         7.8466e-06 |         654.936 μs|\n",
      "|                64 |         6.3557e-06 |         665.188 μs|\n",
      "|                65 |         5.1481e-06 |         643.969 μs|\n",
      "|                66 |           4.17e-06 |         618.935 μs|\n",
      "|                67 |         3.3777e-06 |         586.033 μs|\n",
      "|                68 |         2.7359e-06 |         591.993 μs|\n",
      "|                69 |         2.2161e-06 |         570.059 μs|\n",
      "|                70 |          1.795e-06 |         550.032 μs|\n",
      "|                71 |          1.454e-06 |         578.165 μs|\n",
      "|                72 |         1.1777e-06 |         590.086 μs|\n",
      "|                73 |         9.5396e-07 |         576.973 μs|\n",
      "|                74 |         7.7271e-07 |         620.127 μs|\n",
      "|                75 |         6.2589e-07 |         586.033 μs|\n",
      "|                76 |         5.0697e-07 |         679.016 μs|\n",
      "|                77 |         4.1065e-07 |         669.956 μs|\n",
      "|                78 |         3.3263e-07 |         672.102 μs|\n",
      "|                79 |         2.6943e-07 |         664.949 μs|\n",
      "|                80 |         2.1824e-07 |         616.074 μs|\n",
      "|                81 |         1.7677e-07 |         394.106 μs|\n",
      "|                82 |         1.4318e-07 |         746.012 μs|\n",
      "|                83 |         1.1598e-07 |         582.933 μs|\n",
      "|                84 |         9.3943e-08 |          685.93 μs|\n",
      "|                85 |         7.6094e-08 |         746.012 μs|\n",
      "|                86 |         6.1636e-08 |         777.006 μs|\n",
      "|                87 |         4.9925e-08 |         742.912 μs|\n",
      "|                88 |          4.044e-08 |         797.033 μs|\n",
      "|                89 |         3.2756e-08 |         779.152 μs|\n",
      "|                90 |         2.6532e-08 |         772.953 μs|\n",
      "|                91 |         2.1491e-08 |         763.893 μs|\n",
      "|                92 |         1.7408e-08 |          685.93 μs|\n",
      "|                93 |           1.41e-08 |         782.013 μs|\n",
      "|                94 |         1.1421e-08 |         926.971 μs|\n",
      "|                95 |         9.2513e-09 |         769.138 μs|\n",
      "|                96 |         7.4935e-09 |         1.00803 ms|\n",
      "|                97 |         6.0698e-09 |         504.971 μs|\n",
      "|                98 |         4.9165e-09 |         424.862 μs|\n",
      "|                99 |         3.9824e-09 |         659.943 μs|\n",
      "|               100 |         3.2257e-09 |         801.086 μs|\n",
      "|               101 |         2.6128e-09 |         859.976 μs|\n",
      "|               102 |         2.1164e-09 |         1.02997 ms|\n",
      "|               103 |         1.7143e-09 |         858.068 μs|\n",
      "|               104 |         1.3886e-09 |         1.04308 ms|\n",
      "|               105 |         1.1247e-09 |         766.993 μs|\n",
      "|               106 |         9.1104e-10 |         864.983 μs|\n",
      "|               107 |         7.3794e-10 |         1.02997 ms|\n",
      "|               108 |         5.9773e-10 |          774.86 μs|\n",
      "|               109 |         4.8416e-10 |         1.08194 ms|\n",
      "|               110 |         3.9217e-10 |         1.24907 ms|\n",
      "|               111 |         3.1766e-10 |         918.865 μs|\n",
      "|               112 |          2.573e-10 |         656.128 μs|\n",
      "|               113 |         2.0842e-10 |         504.971 μs|\n",
      "|               114 |         1.6882e-10 |         447.035 μs|\n",
      "|               115 |         1.3674e-10 |         402.927 μs|\n",
      "|               116 |         1.1076e-10 |         433.922 μs|\n",
      "|               117 |         8.9716e-11 |         422.001 μs|\n",
      "|               118 |          7.267e-11 |         420.094 μs|\n",
      "|               119 |         5.8863e-11 |         411.034 μs|\n",
      "|               120 |         4.7679e-11 |         447.035 μs|\n",
      "|               121 |          3.862e-11 |         456.095 μs|\n",
      "|               122 |         3.1282e-11 |         366.926 μs|\n",
      "|               123 |         2.5339e-11 |          416.04 μs|\n",
      "|               124 |         2.0524e-11 |         641.823 μs|\n",
      "|               125 |         1.6625e-11 |         468.016 μs|\n",
      "|               126 |         1.3466e-11 |         580.072 μs|\n",
      "|               127 |         1.0907e-11 |          581.98 μs|\n",
      "|               128 |          8.835e-12 |         478.983 μs|\n",
      "|               129 |         7.1564e-12 |         538.111 μs|\n",
      "|               130 |         5.7966e-12 |         437.975 μs|\n",
      "|               131 |         4.6953e-12 |         360.966 μs|\n",
      "|               132 |         3.8032e-12 |         401.974 μs|\n",
      "|               133 |         3.0806e-12 |         366.211 μs|\n",
      "|               134 |         2.4953e-12 |         365.019 μs|\n",
      "|               135 |         2.0212e-12 |         344.992 μs|\n",
      "|               136 |         1.6371e-12 |         334.024 μs|\n",
      "|               137 |         1.3261e-12 |         338.078 μs|\n",
      "|               138 |         1.0741e-12 |         332.117 μs|\n",
      "|               139 |         8.7005e-13 |         329.971 μs|\n",
      "|               140 |         7.0474e-13 |          336.17 μs|\n",
      "|               141 |         5.7084e-13 |         346.184 μs|\n",
      "|               142 |         4.6238e-13 |         399.113 μs|\n",
      "|               143 |         3.7453e-13 |         404.119 μs|\n",
      "|               144 |         3.0337e-13 |         354.052 μs|\n",
      "|               145 |         2.4573e-13 |         360.966 μs|\n",
      "|               146 |         1.9904e-13 |         429.153 μs|\n",
      "|               147 |         1.6122e-13 |         375.986 μs|\n",
      "|               148 |         1.3059e-13 |         341.892 μs|\n",
      "|               149 |         1.0578e-13 |         339.031 μs|\n",
      "|               150 |          8.568e-14 |         334.024 μs|\n",
      "|               151 |           6.94e-14 |         419.855 μs|\n",
      "|               152 |         5.6214e-14 |         393.867 μs|\n",
      "|               153 |         4.5534e-14 |          367.88 μs|\n",
      "|               154 |         3.6882e-14 |         438.929 μs|\n",
      "|               155 |         2.9875e-14 |         447.035 μs|\n",
      "|               156 |         2.4198e-14 |          612.02 μs|\n",
      "|               157 |         1.9601e-14 |         633.001 μs|\n",
      "|               158 |         1.5877e-14 |         442.028 μs|\n",
      "|               159 |          1.286e-14 |         433.922 μs|\n",
      "|               160 |         1.0417e-14 |          698.09 μs|\n",
      "|               161 |         8.4375e-15 |         775.814 μs|\n",
      "|               162 |         6.8344e-15 |         751.972 μs|\n",
      "|               163 |         5.5358e-15 |         792.027 μs|\n",
      "|               164 |          4.484e-15 |         828.981 μs|\n",
      "|               165 |         3.6321e-15 |         762.939 μs|\n",
      "|               166 |          2.942e-15 |         766.039 μs|\n",
      "|               167 |          2.383e-15 |         494.957 μs|\n",
      "|               168 |         1.9302e-15 |         406.027 μs|\n",
      "|               169 |         1.5635e-15 |         451.088 μs|\n",
      "|               170 |         1.2664e-15 |         424.147 μs|\n",
      "|               171 |         1.0258e-15 |         449.181 μs|\n",
      "|               172 |          8.309e-16 |         432.968 μs|\n",
      "|               173 |         6.7303e-16 |         431.061 μs|\n",
      "|               174 |         5.4515e-16 |         422.001 μs|\n",
      "|               175 |         4.4157e-16 |         479.937 μs|\n",
      "|               176 |         3.5767e-16 |         506.878 μs|\n",
      "|               177 |         2.8972e-16 |         468.016 μs|\n",
      "|               178 |         2.3467e-16 |         416.994 μs|\n",
      "|               179 |         1.9008e-16 |         398.159 μs|\n",
      "|               180 |         1.5397e-16 |         402.927 μs|\n",
      "|               181 |         1.2471e-16 |         604.153 μs|\n",
      "|               182 |         1.0102e-16 |         562.906 μs|\n",
      "|               183 |         8.1824e-17 |         432.014 μs|\n",
      "|               184 |         6.6278e-17 |         470.161 μs|\n",
      "|               185 |         5.3685e-17 |         413.895 μs|\n",
      "|               186 |         4.3485e-17 |         370.026 μs|\n",
      "|               187 |         3.5223e-17 |         374.079 μs|\n",
      "|               188 |          2.853e-17 |         430.107 μs|\n",
      "|               189 |          2.311e-17 |         455.141 μs|\n",
      "|               190 |         1.8719e-17 |         446.081 μs|\n",
      "|               191 |         1.5162e-17 |         413.895 μs|\n",
      "|               192 |         1.2281e-17 |         531.912 μs|\n",
      "|               193 |         9.9479e-18 |         372.171 μs|\n",
      "|               194 |         8.0578e-18 |         342.131 μs|\n",
      "|               195 |         6.5268e-18 |          419.14 μs|\n",
      "|               196 |         5.2867e-18 |         416.994 μs|\n",
      "|               197 |         4.2823e-18 |          373.84 μs|\n",
      "|               198 |         3.4686e-18 |         361.919 μs|\n",
      "|               199 |         2.8096e-18 |         353.098 μs|\n",
      "|               200 |         2.2758e-18 |         351.906 μs|\n",
      "|               201 |         1.8434e-18 |         345.945 μs|\n",
      "|               202 |         1.4931e-18 |         358.105 μs|\n",
      "|               203 |         1.2094e-18 |         436.068 μs|\n",
      "|               204 |         9.7964e-19 |          376.94 μs|\n",
      "|               205 |         7.9351e-19 |         386.953 μs|\n",
      "|               206 |         6.4274e-19 |         349.998 μs|\n",
      "|               207 |         5.2062e-19 |         383.139 μs|\n",
      "|               208 |          4.217e-19 |         372.171 μs|\n",
      "|               209 |         3.4158e-19 |         349.998 μs|\n",
      "|               210 |         2.7668e-19 |         352.859 μs|\n",
      "|               211 |         2.2411e-19 |         378.847 μs|\n",
      "|               212 |         1.8153e-19 |         360.012 μs|\n",
      "|               213 |         1.4704e-19 |         349.045 μs|\n",
      "|               214 |          1.191e-19 |         351.191 μs|\n",
      "|               215 |         9.6472e-20 |         357.151 μs|\n",
      "|               216 |         7.8143e-20 |         361.919 μs|\n",
      "|               217 |         6.3296e-20 |         339.985 μs|\n",
      "|               218 |         5.1269e-20 |         339.985 μs|\n",
      "|               219 |         4.1528e-20 |         341.892 μs|\n",
      "|               220 |         3.3638e-20 |         360.012 μs|\n",
      "|               221 |         2.7247e-20 |         359.058 μs|\n",
      "|               222 |          2.207e-20 |         343.084 μs|\n",
      "|               223 |         1.7877e-20 |         334.978 μs|\n",
      "|               224 |          1.448e-20 |         336.885 μs|\n",
      "|               225 |         1.1729e-20 |         331.879 μs|\n",
      "|               226 |         9.5003e-21 |         344.038 μs|\n",
      "|               227 |         7.6953e-21 |         366.926 μs|\n",
      "|               228 |         6.2332e-21 |         443.935 μs|\n",
      "|               229 |         5.0489e-21 |         478.029 μs|\n",
      "|               230 |         4.0896e-21 |         437.021 μs|\n",
      "|               231 |         3.3126e-21 |          499.01 μs|\n",
      "|               232 |         2.6832e-21 |         449.896 μs|\n",
      "|               233 |         2.1734e-21 |         355.005 μs|\n",
      "|               234 |         1.7604e-21 |         339.985 μs|\n",
      "|               235 |         1.4259e-21 |         329.971 μs|\n",
      "|               236 |          1.155e-21 |             597 μs|\n",
      "|               237 |         9.3556e-22 |         663.996 μs|\n",
      "|               238 |         7.5781e-22 |         492.096 μs|\n",
      "|               239 |         6.1382e-22 |         422.001 μs|\n",
      "|               240 |          4.972e-22 |         396.013 μs|\n",
      "|               241 |         4.0273e-22 |         404.835 μs|\n",
      "|               242 |         3.2621e-22 |         402.927 μs|\n",
      "|               243 |         2.6423e-22 |         408.888 μs|\n",
      "|               244 |         2.1403e-22 |         402.927 μs|\n",
      "|               245 |         1.7336e-22 |         366.211 μs|\n",
      "|               246 |         1.4042e-22 |         413.895 μs|\n",
      "|               247 |         1.1374e-22 |         475.883 μs|\n",
      "|               248 |         9.2132e-23 |         496.149 μs|\n",
      "|               249 |         7.4627e-23 |         380.993 μs|\n",
      "|               250 |         6.0448e-23 |         352.859 μs|\n",
      "|               251 |         4.8963e-23 |         346.899 μs|\n",
      "|               252 |          3.966e-23 |         355.005 μs|\n",
      "|               253 |         3.2124e-23 |         353.098 μs|\n",
      "|               254 |         2.6021e-23 |         343.084 μs|\n",
      "|               255 |         2.1077e-23 |         334.978 μs|\n",
      "|               256 |         1.7072e-23 |         350.952 μs|\n",
      "|               257 |         1.3828e-23 |           382.9 μs|\n",
      "|               258 |         1.1201e-23 |         328.064 μs|\n",
      "|               259 |         9.0729e-24 |         370.979 μs|\n",
      "|               260 |          7.349e-24 |         339.031 μs|\n",
      "|               261 |         5.9527e-24 |         365.019 μs|\n",
      "|               262 |         4.8217e-24 |         367.165 μs|\n",
      "|               263 |         3.9056e-24 |         344.992 μs|\n",
      "|               264 |         3.1635e-24 |         331.879 μs|\n",
      "|               265 |         2.5624e-24 |          336.17 μs|\n",
      "|               266 |         2.0756e-24 |         324.965 μs|\n",
      "|               267 |         1.6812e-24 |         329.018 μs|\n",
      "|               268 |         1.3618e-24 |          327.11 μs|\n",
      "|               269 |          1.103e-24 |         328.064 μs|\n",
      "|               270 |         8.9347e-25 |         319.004 μs|\n",
      "|               271 |         7.2371e-25 |         323.057 μs|\n",
      "|               272 |          5.862e-25 |          327.11 μs|\n",
      "|               273 |         4.7483e-25 |         332.117 μs|\n",
      "|               274 |         3.8461e-25 |         338.078 μs|\n",
      "|               275 |         3.1153e-25 |         324.011 μs|\n",
      "|               276 |         2.5234e-25 |         328.064 μs|\n",
      "|               277 |          2.044e-25 |         382.185 μs|\n",
      "|               278 |         1.6556e-25 |         367.165 μs|\n",
      "|               279 |          1.341e-25 |         349.045 μs|\n",
      "|               280 |         1.0862e-25 |         347.137 μs|\n",
      "|               281 |         8.7986e-26 |         375.032 μs|\n",
      "|               282 |         7.1269e-26 |         363.827 μs|\n",
      "|               283 |         5.7728e-26 |         344.038 μs|\n",
      "|               284 |         4.6759e-26 |         349.045 μs|\n",
      "|               285 |         3.7875e-26 |         366.926 μs|\n",
      "|               286 |         3.0679e-26 |         351.191 μs|\n",
      "|               287 |          2.485e-26 |         334.024 μs|\n",
      "|               288 |         2.0128e-26 |          336.17 μs|\n",
      "|               289 |         1.6304e-26 |         334.024 μs|\n",
      "|               290 |         1.3206e-26 |         326.872 μs|\n",
      "|               291 |         1.0697e-26 |         324.965 μs|\n",
      "|               292 |         8.6646e-27 |         326.157 μs|\n",
      "|               293 |         7.0183e-27 |         334.024 μs|\n",
      "|               294 |         5.6849e-27 |         324.011 μs|\n",
      "|               295 |         4.6047e-27 |         323.057 μs|\n",
      "|               296 |         3.7298e-27 |         379.086 μs|\n",
      "|               297 |         3.0212e-27 |         524.044 μs|\n",
      "|               298 |         2.4471e-27 |         368.118 μs|\n",
      "|               299 |         1.9822e-27 |         338.078 μs|\n",
      "|               300 |         1.6056e-27 |         361.919 μs|\n",
      "|               301 |         1.3005e-27 |         377.893 μs|\n",
      "|               302 |         1.0534e-27 |         361.919 μs|\n",
      "|               303 |         8.5327e-28 |         390.053 μs|\n",
      "|               304 |         6.9115e-28 |         342.131 μs|\n",
      "|               305 |         5.5983e-28 |         343.084 μs|\n",
      "|               306 |         4.5346e-28 |         334.024 μs|\n",
      "|               307 |          3.673e-28 |         327.826 μs|\n",
      "|               308 |         2.9752e-28 |         321.865 μs|\n",
      "|               309 |         2.4099e-28 |         324.965 μs|\n",
      "|               310 |          1.952e-28 |         326.157 μs|\n",
      "|               311 |         1.5811e-28 |         374.079 μs|\n",
      "|               312 |         1.2807e-28 |         361.204 μs|\n",
      "|               313 |         1.0374e-28 |         360.012 μs|\n",
      "|               314 |         8.4027e-29 |         358.105 μs|\n",
      "|               315 |         6.8062e-29 |         356.197 μs|\n",
      "|               316 |          5.513e-29 |         339.985 μs|\n",
      "|               317 |         4.4656e-29 |         335.932 μs|\n",
      "|               318 |         3.6171e-29 |         375.986 μs|\n",
      "|               319 |         2.9298e-29 |         351.906 μs|\n",
      "|               320 |         2.3732e-29 |         375.032 μs|\n",
      "|               321 |         1.9223e-29 |         334.024 μs|\n",
      "|               322 |          1.557e-29 |         339.031 μs|\n",
      "|               323 |         1.2612e-29 |         365.019 μs|\n",
      "|               324 |         1.0216e-29 |         329.971 μs|\n",
      "|               325 |         8.2748e-30 |         342.131 μs|\n",
      "|               326 |         6.7026e-30 |         337.124 μs|\n",
      "|               327 |         5.4291e-30 |         351.906 μs|\n",
      "|               328 |         4.3975e-30 |         424.147 μs|\n",
      "|               329 |          3.562e-30 |         365.019 μs|\n",
      "|               330 |         2.8852e-30 |         339.031 μs|\n",
      "|               331 |          2.337e-30 |         335.932 μs|\n",
      "|               332 |          1.893e-30 |         332.832 μs|\n",
      "|               333 |         1.5333e-30 |         334.024 μs|\n",
      "|               334 |          1.242e-30 |         325.203 μs|\n",
      "|               335 |          1.006e-30 |         324.011 μs|\n",
      "|               336 |         8.1487e-31 |         326.157 μs|\n",
      "|               337 |         6.6005e-31 |         333.071 μs|\n",
      "|               338 |         5.3464e-31 |         332.117 μs|\n",
      "|               339 |         4.3306e-31 |         324.965 μs|\n",
      "|               340 |         3.5078e-31 |         321.865 μs|\n",
      "|               341 |         2.8413e-31 |         325.918 μs|\n",
      "|               342 |         2.3014e-31 |          336.17 μs|\n",
      "|               343 |         1.8642e-31 |         341.892 μs|\n",
      "|               344 |           1.51e-31 |         321.865 μs|\n",
      "|               345 |         1.2231e-31 |         324.965 μs|\n",
      "|               346 |          9.907e-32 |         321.865 μs|\n",
      "|               347 |         8.0246e-32 |         326.872 μs|\n",
      "|               348 |            6.5e-32 |         324.011 μs|\n",
      "|               349 |          5.265e-32 |         324.011 μs|\n",
      "|               350 |         4.2646e-32 |         319.004 μs|\n",
      "+-------------------+--------------------+-------------------+\n",
      "➛ Final objective: 4.2646243447504765e-32\n",
      "➛ Total runtime: 167.45 ms\n",
      "➛ Per iteration runtime: 477.066 μs +/- 178.724 μs\n",
      "➛ Stopped on interation 350. Scaled gradient norm: 9.235393164073175e-16\n",
      "➛ All done!\n",
      "\n"
     ]
    }
   ],
   "source": [
    "# optimize with gradient descent\n",
    "opt = descent.GradientDescent(f_df, x0, learning_rate=0.1)\n",
    "opt.run()"
   ]
  },
  {
   "cell_type": "markdown",
   "metadata": {},
   "source": [
    "The learned parameters are stored in the `theta` property:"
   ]
  },
  {
   "cell_type": "code",
   "execution_count": 20,
   "metadata": {
    "collapsed": false
   },
   "outputs": [
    {
     "data": {
      "text/plain": [
       "array([  3.03149519e-17,   1.18972794e-16,   5.15283918e-17,\n",
       "        -7.16830424e-17,  -1.31622359e-16,  -3.14065686e-18,\n",
       "         3.58040169e-17,  -7.45062571e-17,  -3.98644387e-17,\n",
       "        -1.91490832e-16])"
      ]
     },
     "execution_count": 20,
     "metadata": {},
     "output_type": "execute_result"
    }
   ],
   "source": [
    "opt.theta"
   ]
  },
  {
   "cell_type": "markdown",
   "metadata": {},
   "source": [
    "By default, the objective function at every iteration is stored in a list, and accessed through the `storage` interface:"
   ]
  },
  {
   "cell_type": "code",
   "execution_count": 21,
   "metadata": {
    "collapsed": false,
    "scrolled": false
   },
   "outputs": [
    {
     "data": {
      "text/plain": [
       "<matplotlib.text.Text at 0x1063dd8d0>"
      ]
     },
     "execution_count": 21,
     "metadata": {},
     "output_type": "execute_result"
    },
    {
     "data": {
      "image/png": "[encoded data removed]",
      "text/plain": [
       "<matplotlib.figure.Figure at 0x106083b70>"
      ]
     },
     "metadata": {},
     "output_type": "display_data"
    }
   ],
   "source": [
    "plt.figure(figsize=(10,6))\n",
    "plt.semilogy(opt.storage.get('obj'))\n",
    "plt.xlabel('Iteration, $k$', fontsize=20)\n",
    "plt.ylabel('Objective $f(x^k)$', fontsize=20)\n",
    "plt.title('Gradient descent (linear convergence)', fontsize=18)"
   ]
  },
  {
   "cell_type": "markdown",
   "metadata": {},
   "source": [
    "## Proximal operators\n",
    "\n",
    "See the `descent.proximal_operators` module\n",
    "\n",
    "For example, here is the proximal operator for the $\\ell_1$-norm, with $\\lambda = 0.1$ (the soft thresholding function):"
   ]
  },
  {
   "cell_type": "code",
   "execution_count": 9,
   "metadata": {
    "collapsed": false
   },
   "outputs": [
    {
     "name": "stdout",
     "output_type": "stream",
     "text": [
      "Input:  [0 1 2 3 4]\n",
      "After applying the prox. op.: [ 0.   0.9  1.9  2.9  3.9]\n"
     ]
    }
   ],
   "source": [
    "# get the proximal operator\n",
    "proxop = descent.proximal_operators.sparse(penalty=0.1)\n",
    "\n",
    "# this returns a callable object that evaluates the proximal operator given a starting location and a value for rho:\n",
    "# apply it to a random value, with a given value of rho\n",
    "x = np.arange(5)\n",
    "print('Input: ', x)\n",
    "rho = 1\n",
    "print('After applying the prox. op.:', proxop(x, rho))"
   ]
  },
  {
   "cell_type": "code",
   "execution_count": 12,
   "metadata": {
    "collapsed": false
   },
   "outputs": [
    {
     "data": {
      "image/png": "[encoded data removed]",
      "text/plain": [
       "<matplotlib.figure.Figure at 0x10841d048>"
      ]
     },
     "metadata": {},
     "output_type": "display_data"
    }
   ],
   "source": [
    "# explore the impact of the penalty parameter\n",
    "@interact(penalty=(0.01, 0.5, 0.05))\n",
    "def plot_prox(penalty=0.1):\n",
    "\n",
    "    # get the proximal operator\n",
    "    proxop = descent.proximal_operators.sparse(penalty=penalty)\n",
    "    \n",
    "    # set the value of rho\n",
    "    rho = 0.05\n",
    "    \n",
    "    x = np.linspace(-10,10,1e3)\n",
    "    y = proxop(x, rho)\n",
    "\n",
    "    plt.figure(figsize=(5,5))\n",
    "    plt.title('$\\lambda = {}$'.format(penalty), fontsize=24)\n",
    "    plt.plot(x,y)"
   ]
  },
  {
   "cell_type": "markdown",
   "metadata": {},
   "source": [
    "Here is another example, the proximal operator for the nuclear norm (penalty encourages low-rank solutions):"
   ]
  },
  {
   "cell_type": "code",
   "execution_count": 4,
   "metadata": {
    "collapsed": false
   },
   "outputs": [
    {
     "data": {
      "image/png": "[encoded data removed]",
      "text/plain": [
       "<matplotlib.figure.Figure at 0x109245d68>"
      ]
     },
     "metadata": {},
     "output_type": "display_data"
    }
   ],
   "source": [
    "# apply it to a matrix\n",
    "u = np.cos(4*np.linspace(0,np.pi,30))\n",
    "v = np.sin(np.linspace(0,np.pi,20))\n",
    "X = np.outer(u, v) + 0.3 * np.random.randn(30,20)\n",
    "rho = 1.\n",
    "\n",
    "@interact(penalty=(0.0, 5.0, 0.5))\n",
    "def plot_prox(penalty=0.05):\n",
    "\n",
    "    proxop = descent.proximal_operators.nucnorm(penalty=penalty)\n",
    "    X_lr = proxop(X, rho)\n",
    "\n",
    "    plt.figure(figsize=(10,5))\n",
    "    plt.title('$\\lambda = {}$'.format(penalty), fontsize=24)\n",
    "    plt.imshow(np.hstack([X_lr, X]), aspect='equal', cmap='seismic', interpolation='none')\n",
    "    plt.xlabel('Prox. update        Original image', fontsize=20)"
   ]
  },
  {
   "cell_type": "code",
   "execution_count": null,
   "metadata": {
    "collapsed": true
   },
   "outputs": [],
   "source": []
  }
 ],
 "metadata": {
  "kernelspec": {
   "display_name": "Python 3",
   "language": "python",
   "name": "python3"
  },
  "language_info": {
   "codemirror_mode": {
    "name": "ipython",
    "version": 3
   },
   "file_extension": ".py",
   "mimetype": "text/x-python",
   "name": "python",
   "nbconvert_exporter": "python",
   "pygments_lexer": "ipython3",
   "version": "3.5.0"
  }
 },
 "nbformat": 4,
 "nbformat_minor": 0
}
