{
 "cells": [
  {
   "cell_type": "code",
   "execution_count": 6,
   "metadata": {
    "collapsed": false
   },
   "outputs": [],
   "source": [
    "import numpy as np\n",
    "import descent\n",
    "import matplotlib.pyplot as plt\n",
    "#from IPython.html.widgets import interact\n",
    "from ipywidgets import interact\n",
    "%matplotlib inline"
   ]
  },
  {
   "cell_type": "markdown",
   "metadata": {},
   "source": [
    "# Introduction to the descent package"
   ]
  },
  {
   "cell_type": "markdown",
   "metadata": {},
   "source": [
    "Let's say we want to optimize the following:"
   ]
  },
  {
   "cell_type": "markdown",
   "metadata": {},
   "source": [
    "$$ \\text{minimize}\\quad f(x) $$"
   ]
  },
  {
   "cell_type": "markdown",
   "metadata": {},
   "source": [
    "given a computable expression for $f(x)$ and $\\nabla f(x)$."
   ]
  },
  {
   "cell_type": "markdown",
   "metadata": {},
   "source": [
    "## Organization"
   ]
  },
  {
   "cell_type": "markdown",
   "metadata": {},
   "source": [
    "Descent contains a number of agorithms that can be used to perform unconstrained and constrained optimization. These algorithms are split into two types, the _first-order gradient-based algorithms_ and _proximal algorithms_.\n",
    "\n",
    "Proximal algorithms:\n",
    "- Proximal Consensus / Alternating direction method of multipliers (ADMM)\n",
    "- Proximal gradient descent\n",
    "- Accelerated proximal gradient descent\n",
    "\n",
    "First-order gradient-based algorithms:\n",
    "- Gradient descent (can be stochastic, with or without momentum)\n",
    "- [Stochastic average gradient (SAG)](http://arxiv.org/abs/1309.2388)\n",
    "- RMSProp\n",
    "- [Adam](http://arxiv.org/abs/1412.6980)\n"
   ]
  },
  {
   "cell_type": "markdown",
   "metadata": {},
   "source": [
    "## Toy example\n",
    "\n",
    "For an introductory example, consider the following toy function (a quadratic):\n",
    "$$ f(x) = \\frac{1}{2} x^Tx $$"
   ]
  },
  {
   "cell_type": "code",
   "execution_count": 7,
   "metadata": {
    "collapsed": true
   },
   "outputs": [],
   "source": [
    "# quadratic in n-dimensions\n",
    "def f_df(x):\n",
    "    objective = 0.5 * x.T.dot(x)\n",
    "    gradient = x\n",
    "    return objective, gradient"
   ]
  },
  {
   "cell_type": "code",
   "execution_count": 15,
   "metadata": {
    "collapsed": false
   },
   "outputs": [],
   "source": [
    "# initial guess\n",
    "x0 = np.random.randn(10)"
   ]
  },
  {
   "cell_type": "code",
   "execution_count": 16,
   "metadata": {
    "collapsed": false,
    "scrolled": true
   },
   "outputs": [
    {
     "name": "stdout",
     "output_type": "stream",
     "text": [
      "+----------------+----------------+\n",
      "|iteration       | objective      |\n",
      "+----------------+----------------+\n",
      "|              0 |          4.1396|\n",
      "|              1 |           3.353|\n",
      "|              2 |           2.716|\n",
      "|              3 |          2.1999|\n",
      "|              4 |          1.7819|\n",
      "|              5 |          1.4434|\n",
      "|              6 |          1.1691|\n",
      "|              7 |           0.947|\n",
      "|              8 |         0.76707|\n",
      "|              9 |         0.62133|\n",
      "|             10 |         0.50327|\n",
      "|             11 |         0.40765|\n",
      "|             12 |          0.3302|\n",
      "|             13 |         0.26746|\n",
      "|             14 |         0.21664|\n",
      "|             15 |         0.17548|\n",
      "|             16 |         0.14214|\n",
      "|             17 |         0.11513|\n",
      "|             18 |        0.093258|\n",
      "|             19 |        0.075539|\n",
      "|             20 |        0.061186|\n",
      "|             21 |        0.049561|\n",
      "|             22 |        0.040144|\n",
      "|             23 |        0.032517|\n",
      "|             24 |        0.026339|\n",
      "|             25 |        0.021334|\n",
      "|             26 |        0.017281|\n",
      "|             27 |        0.013997|\n",
      "|             28 |        0.011338|\n",
      "|             29 |       0.0091837|\n",
      "|             30 |       0.0074388|\n",
      "|             31 |       0.0060254|\n",
      "|             32 |       0.0048806|\n",
      "|             33 |       0.0039533|\n",
      "|             34 |       0.0032022|\n",
      "|             35 |       0.0025938|\n",
      "|             36 |       0.0021009|\n",
      "|             37 |       0.0017018|\n",
      "|             38 |       0.0013784|\n",
      "|             39 |       0.0011165|\n",
      "|             40 |      0.00090439|\n",
      "|             41 |      0.00073255|\n",
      "|             42 |      0.00059337|\n",
      "|             43 |      0.00048063|\n",
      "|             44 |      0.00038931|\n",
      "|             45 |      0.00031534|\n",
      "|             46 |      0.00025543|\n",
      "|             47 |      0.00020689|\n",
      "|             48 |      0.00016758|\n",
      "|             49 |      0.00013574|\n",
      "|             50 |      0.00010995|\n",
      "|             51 |      8.9061e-05|\n",
      "|             52 |       7.214e-05|\n",
      "|             53 |      5.8433e-05|\n",
      "|             54 |      4.7331e-05|\n",
      "|             55 |      3.8338e-05|\n",
      "|             56 |      3.1054e-05|\n",
      "|             57 |      2.5154e-05|\n",
      "|             58 |      2.0374e-05|\n",
      "|             59 |      1.6503e-05|\n",
      "|             60 |      1.3368e-05|\n",
      "|             61 |      1.0828e-05|\n",
      "|             62 |      8.7705e-06|\n",
      "|             63 |      7.1041e-06|\n",
      "|             64 |      5.7543e-06|\n",
      "|             65 |       4.661e-06|\n",
      "|             66 |      3.7754e-06|\n",
      "|             67 |      3.0581e-06|\n",
      "|             68 |      2.4771e-06|\n",
      "|             69 |      2.0064e-06|\n",
      "|             70 |      1.6252e-06|\n",
      "|             71 |      1.3164e-06|\n",
      "|             72 |      1.0663e-06|\n",
      "|             73 |      8.6369e-07|\n",
      "|             74 |      6.9959e-07|\n",
      "|             75 |      5.6667e-07|\n",
      "|             76 |        4.59e-07|\n",
      "|             77 |      3.7179e-07|\n",
      "|             78 |      3.0115e-07|\n",
      "|             79 |      2.4393e-07|\n",
      "|             80 |      1.9759e-07|\n",
      "|             81 |      1.6004e-07|\n",
      "|             82 |      1.2964e-07|\n",
      "|             83 |      1.0501e-07|\n",
      "|             84 |      8.5054e-08|\n",
      "|             85 |      6.8894e-08|\n",
      "|             86 |      5.5804e-08|\n",
      "|             87 |      4.5201e-08|\n",
      "|             88 |      3.6613e-08|\n",
      "|             89 |      2.9657e-08|\n",
      "|             90 |      2.4022e-08|\n",
      "|             91 |      1.9458e-08|\n",
      "|             92 |      1.5761e-08|\n",
      "|             93 |      1.2766e-08|\n",
      "|             94 |      1.0341e-08|\n",
      "|             95 |      8.3759e-09|\n",
      "|             96 |      6.7845e-09|\n",
      "|             97 |      5.4954e-09|\n",
      "|             98 |      4.4513e-09|\n",
      "|             99 |      3.6055e-09|\n",
      "|            100 |      2.9205e-09|\n",
      "+----------------+----------------+\n"
     ]
    }
   ],
   "source": [
    "# optimize with gradient descent\n",
    "algorithm = descent.algorithms.sgd(lr=0.1)\n",
    "opt = descent.GradientDescent(x0, f_df, algorithm)\n",
    "opt.run(maxiter=100)"
   ]
  },
  {
   "cell_type": "markdown",
   "metadata": {},
   "source": [
    "The learned parameters are stored in the `theta` property:"
   ]
  },
  {
   "cell_type": "code",
   "execution_count": 17,
   "metadata": {
    "collapsed": false
   },
   "outputs": [
    {
     "data": {
      "text/plain": [
       "array([ -8.08669581e-06,   2.41698706e-05,  -8.42071040e-06,\n",
       "         2.70291799e-05,  -1.27900727e-05,  -1.67045577e-05,\n",
       "         3.15611336e-05,  -3.38602374e-05,   2.62718469e-05,\n",
       "         2.16164009e-06])"
      ]
     },
     "execution_count": 17,
     "metadata": {},
     "output_type": "execute_result"
    }
   ],
   "source": [
    "opt.theta"
   ]
  },
  {
   "cell_type": "markdown",
   "metadata": {},
   "source": [
    "By default, the objective function at every iteration is stored in a list, and accessed through the `store` property:"
   ]
  },
  {
   "cell_type": "code",
   "execution_count": 18,
   "metadata": {
    "collapsed": false,
    "scrolled": false
   },
   "outputs": [
    {
     "data": {
      "text/plain": [
       "<matplotlib.text.Text at 0x10b7c0128>"
      ]
     },
     "execution_count": 18,
     "metadata": {},
     "output_type": "execute_result"
    },
    {
     "data": {
      "image/png": "[encoded data removed]",
      "text/plain": [
       "<matplotlib.figure.Figure at 0x10bb66048>"
      ]
     },
     "metadata": {},
     "output_type": "display_data"
    }
   ],
   "source": [
    "plt.figure(figsize=(10,6))\n",
    "plt.semilogy(opt.store['objective'])\n",
    "plt.xlabel('Iteration, $k$', fontsize=20)\n",
    "plt.ylabel('Objective $f(x^k)$', fontsize=20)\n",
    "plt.title('Gradient descent (linear convergence)', fontsize=18)"
   ]
  },
  {
   "cell_type": "markdown",
   "metadata": {},
   "source": [
    "## Proximal operators\n",
    "\n",
    "See the `descent.proximal_operators` module\n",
    "\n",
    "For example, here is the proximal operator for the $\\ell_1$-norm, with $\\lambda = 0.1$ (the soft thresholding function):"
   ]
  },
  {
   "cell_type": "code",
   "execution_count": 20,
   "metadata": {
    "collapsed": false
   },
   "outputs": [
    {
     "name": "stdout",
     "output_type": "stream",
     "text": [
      "Input:  [0 1 2 3 4]\n",
      "After applying the prox. op.: [ 0.   0.9  1.9  2.9  3.9]\n"
     ]
    }
   ],
   "source": [
    "# get the proximal operator\n",
    "proxop = descent.proxops.sparse(0.1)\n",
    "\n",
    "# this returns a callable object that evaluates the proximal operator given a starting location and a value for rho:\n",
    "# apply it to a random value, with a given value of rho\n",
    "x = np.arange(5)\n",
    "print('Input: ', x)\n",
    "rho = 1\n",
    "print('After applying the prox. op.:', proxop.send((x, rho)))"
   ]
  },
  {
   "cell_type": "code",
   "execution_count": 22,
   "metadata": {
    "collapsed": false
   },
   "outputs": [
    {
     "data": {
      "image/png": "[encoded data removed]",
      "text/plain": [
       "<matplotlib.figure.Figure at 0x10b82ebe0>"
      ]
     },
     "metadata": {},
     "output_type": "display_data"
    }
   ],
   "source": [
    "# explore the impact of the penalty parameter\n",
    "@interact(penalty=(0.01, 0.5, 0.05))\n",
    "def plot_prox(penalty=0.1):\n",
    "\n",
    "    # get the proximal operator\n",
    "    proxop = descent.proxops.sparse(penalty)\n",
    "    \n",
    "    # set the value of rho\n",
    "    rho = 0.05\n",
    "    \n",
    "    x = np.linspace(-10,10,1e3)\n",
    "    y = proxop.send((x, rho))\n",
    "\n",
    "    plt.figure(figsize=(5,5))\n",
    "    plt.title('$\\lambda = {}$'.format(penalty), fontsize=24)\n",
    "    plt.plot(x,y)"
   ]
  },
  {
   "cell_type": "markdown",
   "metadata": {},
   "source": [
    "Here is another example, the proximal operator for the nuclear norm (penalty encourages low-rank solutions):"
   ]
  },
  {
   "cell_type": "code",
   "execution_count": 23,
   "metadata": {
    "collapsed": false
   },
   "outputs": [
    {
     "data": {
      "image/png": "[encoded data removed]",
      "text/plain": [
       "<matplotlib.figure.Figure at 0x10b830940>"
      ]
     },
     "metadata": {},
     "output_type": "display_data"
    }
   ],
   "source": [
    "# apply it to a matrix\n",
    "u = np.cos(4*np.linspace(0,np.pi,30))\n",
    "v = np.sin(np.linspace(0,np.pi,20))\n",
    "X = np.outer(u, v) + 0.3 * np.random.randn(30,20)\n",
    "rho = 1.\n",
    "\n",
    "@interact(penalty=(0.0, 5.0, 0.5))\n",
    "def plot_prox(penalty=0.05):\n",
    "\n",
    "    proxop = descent.proxops.nucnorm(penalty)\n",
    "    X_lr = proxop.send((X, rho))\n",
    "\n",
    "    plt.figure(figsize=(10,5))\n",
    "    plt.title('$\\lambda = {}$'.format(penalty), fontsize=24)\n",
    "    plt.imshow(np.hstack([X_lr, X]), aspect='equal', cmap='seismic', interpolation='none')\n",
    "    plt.xlabel('Prox. update        Original image', fontsize=20)"
   ]
  },
  {
   "cell_type": "code",
   "execution_count": null,
   "metadata": {
    "collapsed": true
   },
   "outputs": [],
   "source": []
  }
 ],
 "metadata": {
  "kernelspec": {
   "display_name": "Python 3",
   "language": "python",
   "name": "python3"
  },
  "language_info": {
   "codemirror_mode": {
    "name": "ipython",
    "version": 3
   },
   "file_extension": ".py",
   "mimetype": "text/x-python",
   "name": "python",
   "nbconvert_exporter": "python",
   "pygments_lexer": "ipython3",
   "version": "3.5.0"
  }
 },
 "nbformat": 4,
 "nbformat_minor": 0
}
