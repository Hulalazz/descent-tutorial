{
 "cells": [
  {
   "cell_type": "code",
   "execution_count": 1,
   "metadata": {
    "collapsed": false
   },
   "outputs": [],
   "source": [
    "import numpy as np\n",
    "import descent\n",
    "import matplotlib.pyplot as plt\n",
    "try:\n",
    "    from ipywidgets import interact\n",
    "except ImportError:\n",
    "    from IPython.html.widgets import interact\n",
    "\n",
    "plt.style.use(['ocean', 'seaborn-notebook'])\n",
    "%matplotlib inline"
   ]
  },
  {
   "cell_type": "markdown",
   "metadata": {},
   "source": [
    "# Introduction to the descent package"
   ]
  },
  {
   "cell_type": "markdown",
   "metadata": {},
   "source": [
    "Let's say we want to optimize the following:"
   ]
  },
  {
   "cell_type": "markdown",
   "metadata": {},
   "source": [
    "$$ \\text{minimize}\\quad f(x) $$"
   ]
  },
  {
   "cell_type": "markdown",
   "metadata": {},
   "source": [
    "given a computable expression for $f(x)$ and $\\nabla f(x)$."
   ]
  },
  {
   "cell_type": "markdown",
   "metadata": {},
   "source": [
    "## Organization"
   ]
  },
  {
   "cell_type": "markdown",
   "metadata": {},
   "source": [
    "Descent contains a number of agorithms that can be used to perform unconstrained and constrained optimization. These algorithms are split into two types, the _first-order gradient-based algorithms_ and _proximal algorithms_.\n",
    "\n",
    "Proximal algorithms:\n",
    "- Proximal Consensus / Alternating direction method of multipliers (ADMM)\n",
    "- Proximal gradient descent\n",
    "- Accelerated proximal gradient descent\n",
    "\n",
    "First-order gradient-based algorithms:\n",
    "- Gradient descent (can be stochastic, with or without momentum)\n",
    "- [Stochastic average gradient (SAG)](http://arxiv.org/abs/1309.2388)\n",
    "- RMSProp\n",
    "- [Adam](http://arxiv.org/abs/1412.6980)\n"
   ]
  },
  {
   "cell_type": "markdown",
   "metadata": {},
   "source": [
    "## Toy example\n",
    "\n",
    "For an introductory example, consider the following toy function (a quadratic):\n",
    "$$ f(x) = \\frac{1}{2} x^Tx $$"
   ]
  },
  {
   "cell_type": "code",
   "execution_count": 2,
   "metadata": {
    "collapsed": true
   },
   "outputs": [],
   "source": [
    "# quadratic in n-dimensions\n",
    "def f_df(x):\n",
    "    objective = 0.5 * x.T.dot(x)\n",
    "    gradient = x\n",
    "    return objective, gradient"
   ]
  },
  {
   "cell_type": "code",
   "execution_count": 3,
   "metadata": {
    "collapsed": false
   },
   "outputs": [],
   "source": [
    "# initial guess\n",
    "x0 = np.random.randn(10)"
   ]
  },
  {
   "cell_type": "code",
   "execution_count": 4,
   "metadata": {
    "collapsed": false,
    "scrolled": true
   },
   "outputs": [],
   "source": [
    "# optimize with gradient descent\n",
    "learning_rate = 0.1\n",
    "optimizer = descent.GradientDescent(x0, f_df, 'sgd', {'lr': learning_rate})\n",
    "optimizer.run(maxiter=100)"
   ]
  },
  {
   "cell_type": "markdown",
   "metadata": {},
   "source": [
    "The learned parameters are stored in the `theta` property:"
   ]
  },
  {
   "cell_type": "code",
   "execution_count": 5,
   "metadata": {
    "collapsed": false
   },
   "outputs": [
    {
     "data": {
      "text/plain": [
       "array([ -1.58163754e-05,   2.13525933e-05,  -2.47031058e-05,\n",
       "        -5.02514712e-05,   1.31953820e-06,   1.43428226e-05,\n",
       "        -6.25972993e-05,  -2.53576341e-05,  -4.84312426e-07,\n",
       "        -1.36355765e-05])"
      ]
     },
     "execution_count": 5,
     "metadata": {},
     "output_type": "execute_result"
    }
   ],
   "source": [
    "optimizer.theta"
   ]
  },
  {
   "cell_type": "markdown",
   "metadata": {},
   "source": [
    "By default, the objective function at every iteration is stored in a list, and accessed through the `store` property:"
   ]
  },
  {
   "cell_type": "code",
   "execution_count": 6,
   "metadata": {
    "collapsed": false,
    "scrolled": false
   },
   "outputs": [
    {
     "data": {
      "text/plain": [
       "<matplotlib.text.Text at 0x10dd20be0>"
      ]
     },
     "execution_count": 6,
     "metadata": {},
     "output_type": "execute_result"
    },
    {
     "data": {
      "image/png": "[encoded data removed]",
      "text/plain": [
       "<matplotlib.figure.Figure at 0x10dcc0e80>"
      ]
     },
     "metadata": {},
     "output_type": "display_data"
    }
   ],
   "source": [
    "plt.figure(figsize=(10,6))\n",
    "plt.semilogy(optimizer.store['objective'])\n",
    "plt.xlabel('Iteration, $k$', fontsize=20)\n",
    "plt.ylabel('Objective $f(x^k)$', fontsize=20)\n",
    "plt.title('Linear convergence of gradient descent', fontsize=18)"
   ]
  },
  {
   "cell_type": "markdown",
   "metadata": {},
   "source": [
    "## Proximal operators\n",
    "\n",
    "See the `descent.proximal_operators` module\n",
    "\n",
    "For example, here is the proximal operator for the $\\ell_1$-norm, with $\\lambda = 0.1$ (the soft thresholding function):"
   ]
  },
  {
   "cell_type": "code",
   "execution_count": 7,
   "metadata": {
    "collapsed": false
   },
   "outputs": [
    {
     "name": "stdout",
     "output_type": "stream",
     "text": [
      "Input:  [0 1 2 3 4]\n",
      "After applying the prox. op.: [ 0.   0.9  1.9  2.9  3.9]\n"
     ]
    }
   ],
   "source": [
    "# get the proximal operator\n",
    "proxop = descent.proxops.sparse(0.1)\n",
    "\n",
    "# this returns a callable object that evaluates the proximal operator given a starting location and a value for rho:\n",
    "# apply it to a random value, with a given value of rho\n",
    "x = np.arange(5)\n",
    "print('Input: ', x)\n",
    "rho = 1\n",
    "print('After applying the prox. op.:', proxop(x, rho))"
   ]
  },
  {
   "cell_type": "code",
   "execution_count": 8,
   "metadata": {
    "collapsed": false
   },
   "outputs": [
    {
     "data": {
      "image/png": "[encoded data removed]",
      "text/plain": [
       "<matplotlib.figure.Figure at 0x10dfd5a20>"
      ]
     },
     "metadata": {},
     "output_type": "display_data"
    }
   ],
   "source": [
    "# explore the impact of the penalty parameter\n",
    "@interact(penalty=(0.01, 0.5, 0.05))\n",
    "def plot_prox(penalty=0.1):\n",
    "\n",
    "    # get the proximal operator\n",
    "    proxop = descent.proxops.sparse(penalty)\n",
    "    \n",
    "    # set the value of rho\n",
    "    rho = 0.05\n",
    "    \n",
    "    x = np.linspace(-10,10,1e3)\n",
    "    y = proxop(x, rho)\n",
    "\n",
    "    plt.figure(figsize=(5,5))\n",
    "    plt.title('$\\lambda = {}$'.format(penalty), fontsize=24)\n",
    "    plt.plot(x,y)"
   ]
  },
  {
   "cell_type": "markdown",
   "metadata": {},
   "source": [
    "Here is another example, the proximal operator for the nuclear norm (penalty encourages low-rank solutions):"
   ]
  },
  {
   "cell_type": "code",
   "execution_count": 9,
   "metadata": {
    "collapsed": false
   },
   "outputs": [
    {
     "data": {
      "image/png": "[encoded data removed]",
      "text/plain": [
       "<matplotlib.figure.Figure at 0x10e004d30>"
      ]
     },
     "metadata": {},
     "output_type": "display_data"
    }
   ],
   "source": [
    "# apply it to a matrix\n",
    "u = np.cos(4*np.linspace(0,np.pi,30))\n",
    "v = np.sin(np.linspace(0,np.pi,20))\n",
    "X = np.outer(u, v) + 0.3 * np.random.randn(30,20)\n",
    "rho = 1.\n",
    "\n",
    "@interact(penalty=(0.0, 5.0, 0.5))\n",
    "def plot_prox(penalty=0.05):\n",
    "\n",
    "    proxop = descent.proxops.nucnorm(penalty)\n",
    "    X_lr = proxop(X, rho)\n",
    "\n",
    "    plt.figure(figsize=(10,5))\n",
    "    plt.title('$\\lambda = {}$'.format(penalty), fontsize=24)\n",
    "    plt.imshow(np.hstack([X_lr, X]), aspect='equal', cmap='seismic', interpolation='none')\n",
    "    plt.xlabel('Prox. update        Original image', fontsize=20)"
   ]
  }
 ],
 "metadata": {
  "kernelspec": {
   "display_name": "Python 3",
   "language": "python",
   "name": "python3"
  },
  "language_info": {
   "codemirror_mode": {
    "name": "ipython",
    "version": 3
   },
   "file_extension": ".py",
   "mimetype": "text/x-python",
   "name": "python",
   "nbconvert_exporter": "python",
   "pygments_lexer": "ipython3",
   "version": "3.5.1"
  }
 },
 "nbformat": 4,
 "nbformat_minor": 0
}
