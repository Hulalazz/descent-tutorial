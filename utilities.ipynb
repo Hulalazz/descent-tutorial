{
 "cells": [
  {
   "cell_type": "code",
   "execution_count": 2,
   "metadata": {
    "collapsed": false
   },
   "outputs": [],
   "source": [
    "# imports\n",
    "import numpy as np\n",
    "import matplotlib.pyplot as plt\n",
    "import descent\n",
    "try:\n",
    "    from ipywidgets import interact\n",
    "except ImportError:\n",
    "    from IPython.html.widgets import interact\n",
    "\n",
    "plt.style.use(['ocean', 'seaborn-notebook'])\n",
    "%matplotlib inline"
   ]
  },
  {
   "cell_type": "markdown",
   "metadata": {},
   "source": [
    "# Helper utilities"
   ]
  },
  {
   "cell_type": "markdown",
   "metadata": {},
   "source": [
    "Demonstrations of some useful helper functions and utilities in `descent`:"
   ]
  },
  {
   "cell_type": "markdown",
   "metadata": {},
   "source": [
    "## Numerical gradient checks"
   ]
  },
  {
   "cell_type": "markdown",
   "metadata": {},
   "source": [
    "Checks the given (analytic) objective and gradient function with a numerical comparison:\n",
    "\n",
    "$$ \\frac{f(x + \\delta x) - f(x)}{\\delta x} \\approx \\frac{\\partial f}{\\partial x} $$"
   ]
  },
  {
   "cell_type": "code",
   "execution_count": 3,
   "metadata": {
    "collapsed": true
   },
   "outputs": [],
   "source": [
    "def f_df(x):\n",
    "    objective = 0.5 * np.linalg.norm(x)**2\n",
    "    gradient = x.copy()\n",
    "    gradient[4] = 5.     # Error! incorrect gradient here\n",
    "    return objective, gradient"
   ]
  },
  {
   "cell_type": "code",
   "execution_count": 4,
   "metadata": {
    "collapsed": false
   },
   "outputs": [
    {
     "name": "stdout",
     "output_type": "stream",
     "text": [
      "------------------------------------\n",
      "Numerical  | Analytic   | Error          \n",
      "------------------------------------\n",
      "0.1871     | 0.1871     | 0.000000 | \u001b[32m✔\u001b[0m\n",
      "-0.8438    | -0.8438    | 0.000000 | \u001b[32m✔\u001b[0m\n",
      "-0.5080    | -0.5080    | 0.000000 | \u001b[32m✔\u001b[0m\n",
      "-0.8242    | -0.8242    | 0.000000 | \u001b[32m✔\u001b[0m\n",
      "-0.4985    | 5.0000     | 1.000000 | \u001b[31m✗\u001b[0m\n",
      "-0.5464    | -0.5464    | 0.000000 | \u001b[32m✔\u001b[0m\n",
      "2.1707     | 2.1707     | 0.000000 | \u001b[32m✔\u001b[0m\n",
      "1.7297     | 1.7297     | 0.000000 | \u001b[32m✔\u001b[0m\n",
      "-0.7656    | -0.7656    | 0.000000 | \u001b[32m✔\u001b[0m\n",
      "1.3949     | 1.3949     | 0.000000 | \u001b[32m✔\u001b[0m\n"
     ]
    }
   ],
   "source": [
    "x0 = np.random.randn(10)\n",
    "descent.check_grad(f_df, x0)"
   ]
  },
  {
   "cell_type": "markdown",
   "metadata": {},
   "source": [
    "## Function wrapping"
   ]
  },
  {
   "cell_type": "code",
   "execution_count": 5,
   "metadata": {
    "collapsed": true
   },
   "outputs": [],
   "source": [
    "A = np.random.randn(10,5)\n",
    "def f_df(theta):\n",
    "    objective = 0.5 * np.linalg.norm(A.dot(theta['w']) - theta['b']) ** 2\n",
    "    gradient = dict()\n",
    "    gradient['w'] = A.T.dot(A.dot(theta['w']) - theta['b'])\n",
    "    gradient['b'] = theta['b'] - A.dot(theta['w'])\n",
    "    return objective, gradient"
   ]
  },
  {
   "cell_type": "code",
   "execution_count": 6,
   "metadata": {
    "collapsed": false
   },
   "outputs": [],
   "source": [
    "theta_init = {'w': np.random.randn(5,), 'b': np.random.randn(10,)}"
   ]
  },
  {
   "cell_type": "code",
   "execution_count": 7,
   "metadata": {
    "collapsed": false
   },
   "outputs": [
    {
     "name": "stdout",
     "output_type": "stream",
     "text": [
      "------------------------------------\n",
      "Numerical  | Analytic   | Error          \n",
      "------------------------------------\n",
      "-2.0024    | -2.0024    | 0.000000 | \u001b[32m✔\u001b[0m\n",
      "2.3995     | 2.3995     | 0.000000 | \u001b[32m✔\u001b[0m\n",
      "1.0175     | 1.0175     | 0.000000 | \u001b[32m✔\u001b[0m\n",
      "-0.1162    | -0.1162    | 0.000000 | \u001b[32m✔\u001b[0m\n",
      "2.9358     | 2.9358     | 0.000000 | \u001b[32m✔\u001b[0m\n",
      "-6.9781    | -6.9781    | 0.000000 | \u001b[32m✔\u001b[0m\n",
      "-4.2751    | -4.2751    | 0.000000 | \u001b[32m✔\u001b[0m\n",
      "0.5536     | 0.5536     | 0.000000 | \u001b[32m✔\u001b[0m\n",
      "-0.5720    | -0.5720    | 0.000000 | \u001b[32m✔\u001b[0m\n",
      "-2.4563    | -2.4563    | 0.000000 | \u001b[32m✔\u001b[0m\n",
      "-35.5516   | -35.5516   | 0.000000 | \u001b[32m✔\u001b[0m\n",
      "-11.1993   | -11.1993   | 0.000000 | \u001b[32m✔\u001b[0m\n",
      "4.2058     | 4.2058     | 0.000000 | \u001b[32m✔\u001b[0m\n",
      "-0.3671    | -0.3671    | 0.000000 | \u001b[32m✔\u001b[0m\n",
      "3.8574     | 3.8574     | 0.000000 | \u001b[32m✔\u001b[0m\n"
     ]
    }
   ],
   "source": [
    "descent.check_grad(f_df, theta_init)"
   ]
  },
  {
   "cell_type": "code",
   "execution_count": 12,
   "metadata": {
    "collapsed": false
   },
   "outputs": [
    {
     "data": {
      "text/plain": [
       "{'b': array([-0.79429533,  0.34228628, -0.41107495,  0.17159443,  0.57893234,\n",
       "        -0.45601154, -1.55100329,  0.33428903,  0.4542238 ,  0.05294524]),\n",
       " 'w': array([ 0.14644834,  0.49675253, -0.47772738,  0.64859601, -0.0684283 ])}"
      ]
     },
     "execution_count": 12,
     "metadata": {},
     "output_type": "execute_result"
    }
   ],
   "source": [
    "opt = descent.GradientDescent(theta_init, f_df, 'sgd', {})\n",
    "opt.run(maxiter=1e4)\n",
    "opt.theta"
   ]
  },
  {
   "cell_type": "markdown",
   "metadata": {},
   "source": [
    "## Interrupts"
   ]
  },
  {
   "cell_type": "code",
   "execution_count": 14,
   "metadata": {
    "collapsed": false
   },
   "outputs": [],
   "source": [
    "opt = descent.GradientDescent(theta_init, f_df, 'sgd', {})\n",
    "opt.run(maxiter=1e5)"
   ]
  },
  {
   "cell_type": "code",
   "execution_count": 15,
   "metadata": {
    "collapsed": false
   },
   "outputs": [
    {
     "data": {
      "text/plain": [
       "{'b': array([-0.79430186,  0.34229873, -0.41112776,  0.17158984,  0.57892172,\n",
       "        -0.45601113, -1.55099055,  0.33429401,  0.45421084,  0.05294425]),\n",
       " 'w': array([ 0.14644834,  0.49675253, -0.47772738,  0.64859601, -0.0684283 ])}"
      ]
     },
     "execution_count": 15,
     "metadata": {},
     "output_type": "execute_result"
    }
   ],
   "source": [
    "opt.theta"
   ]
  }
 ],
 "metadata": {
  "kernelspec": {
   "display_name": "Python 3",
   "language": "python",
   "name": "python3"
  },
  "language_info": {
   "codemirror_mode": {
    "name": "ipython",
    "version": 3
   },
   "file_extension": ".py",
   "mimetype": "text/x-python",
   "name": "python",
   "nbconvert_exporter": "python",
   "pygments_lexer": "ipython3",
   "version": "3.5.1"
  }
 },
 "nbformat": 4,
 "nbformat_minor": 0
}
