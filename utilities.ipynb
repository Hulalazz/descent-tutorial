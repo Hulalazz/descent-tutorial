{
 "cells": [
  {
   "cell_type": "code",
   "execution_count": 63,
   "metadata": {
    "collapsed": false
   },
   "outputs": [],
   "source": [
    "# imports\n",
    "import numpy as np\n",
    "import matplotlib.pyplot as plt\n",
    "import descent\n",
    "from ipywidgets import interact\n",
    "%matplotlib inline"
   ]
  },
  {
   "cell_type": "markdown",
   "metadata": {},
   "source": [
    "# Helper utilities"
   ]
  },
  {
   "cell_type": "markdown",
   "metadata": {},
   "source": [
    "Demonstrations of some useful helper functions and utilities in `descent`:"
   ]
  },
  {
   "cell_type": "markdown",
   "metadata": {},
   "source": [
    "## Numerical gradient checks"
   ]
  },
  {
   "cell_type": "markdown",
   "metadata": {},
   "source": [
    "Checks the given (analytic) objective and gradient function with a numerical comparison:\n",
    "\n",
    "$$ \\frac{f(x + \\delta x) - f(x)}{\\delta x} \\approx \\frac{\\partial f}{\\partial x} $$"
   ]
  },
  {
   "cell_type": "code",
   "execution_count": 34,
   "metadata": {
    "collapsed": true
   },
   "outputs": [],
   "source": [
    "def f_df(x):\n",
    "    objective = 0.5 * np.linalg.norm(x)**2\n",
    "    gradient = x.copy()\n",
    "    gradient[4] = 5.     # Error! incorrect gradient here\n",
    "    return objective, gradient"
   ]
  },
  {
   "cell_type": "code",
   "execution_count": 35,
   "metadata": {
    "collapsed": false
   },
   "outputs": [
    {
     "name": "stdout",
     "output_type": "stream",
     "text": [
      "------------------------------------\n",
      "Numerical  | Analytic   | Error          \n",
      "------------------------------------\n",
      "0.4725     | 0.4725     | 0.000000 | \u001b[32m✔\u001b[0m\n",
      "0.2603     | 0.2603     | 0.000000 | \u001b[32m✔\u001b[0m\n",
      "0.2569     | 0.2569     | 0.000000 | \u001b[32m✔\u001b[0m\n",
      "-0.8082    | -0.8082    | 0.000000 | \u001b[32m✔\u001b[0m\n",
      "-2.2036    | 5.0000     | 1.000000 | \u001b[31m✗\u001b[0m\n",
      "0.6512     | 0.6512     | 0.000000 | \u001b[32m✔\u001b[0m\n",
      "-0.1794    | -0.1794    | 0.000000 | \u001b[32m✔\u001b[0m\n",
      "1.2999     | 1.2999     | 0.000000 | \u001b[32m✔\u001b[0m\n",
      "0.3329     | 0.3329     | 0.000000 | \u001b[32m✔\u001b[0m\n",
      "0.1381     | 0.1381     | 0.000000 | \u001b[32m✔\u001b[0m\n"
     ]
    }
   ],
   "source": [
    "x0 = np.random.randn(10)\n",
    "descent.check_grad(f_df, x0)"
   ]
  },
  {
   "cell_type": "markdown",
   "metadata": {},
   "source": [
    "## Function wrapping"
   ]
  },
  {
   "cell_type": "code",
   "execution_count": 46,
   "metadata": {
    "collapsed": true
   },
   "outputs": [],
   "source": [
    "A = np.random.randn(10,5)\n",
    "def f_df(theta):\n",
    "    objective = 0.5 * np.linalg.norm(A.dot(theta['w']) - theta['b']) ** 2\n",
    "    gradient = dict()\n",
    "    gradient['w'] = A.T.dot(A.dot(theta['w']) - theta['b'])\n",
    "    gradient['b'] = theta['b'] - A.dot(theta['w'])\n",
    "    return objective, gradient"
   ]
  },
  {
   "cell_type": "code",
   "execution_count": 47,
   "metadata": {
    "collapsed": false
   },
   "outputs": [],
   "source": [
    "theta_init = {'w': np.random.randn(5,), 'b': np.random.randn(10,)}"
   ]
  },
  {
   "cell_type": "code",
   "execution_count": 48,
   "metadata": {
    "collapsed": false
   },
   "outputs": [
    {
     "name": "stdout",
     "output_type": "stream",
     "text": [
      "------------------------------------\n",
      "Numerical  | Analytic   | Error          \n",
      "------------------------------------\n",
      "4.1944     | 4.1944     | 0.000000 | \u001b[32m✔\u001b[0m\n",
      "-3.7402    | -3.7402    | 0.000000 | \u001b[32m✔\u001b[0m\n",
      "3.3267     | 3.3267     | 0.000000 | \u001b[32m✔\u001b[0m\n",
      "0.8700     | 0.8700     | 0.000000 | \u001b[32m✔\u001b[0m\n",
      "-0.1878    | -0.1878    | 0.000000 | \u001b[32m✔\u001b[0m\n",
      "2.5599     | 2.5599     | 0.000000 | \u001b[32m✔\u001b[0m\n",
      "0.1329     | 0.1329     | 0.000000 | \u001b[32m✔\u001b[0m\n",
      "3.6567     | 3.6567     | 0.000000 | \u001b[32m✔\u001b[0m\n",
      "-0.8752    | -0.8752    | 0.000000 | \u001b[32m✔\u001b[0m\n",
      "0.7195     | 0.7195     | 0.000000 | \u001b[32m✔\u001b[0m\n",
      "-8.0961    | -8.0961    | 0.000000 | \u001b[32m✔\u001b[0m\n",
      "-2.7421    | -2.7421    | 0.000000 | \u001b[32m✔\u001b[0m\n",
      "20.8833    | 20.8833    | 0.000000 | \u001b[32m✔\u001b[0m\n",
      "1.2850     | 1.2850     | 0.000000 | \u001b[32m✔\u001b[0m\n",
      "5.5346     | 5.5346     | 0.000000 | \u001b[32m✔\u001b[0m\n"
     ]
    }
   ],
   "source": [
    "descent.check_grad(f_df, theta_init)"
   ]
  },
  {
   "cell_type": "code",
   "execution_count": 59,
   "metadata": {
    "collapsed": false
   },
   "outputs": [
    {
     "name": "stdout",
     "output_type": "stream",
     "text": [
      "+----------------+-----------------+----------------+\n",
      "|Iteration       | Objective       | Runtime        |\n",
      "+----------------+-----------------+----------------+\n",
      "|              0 |          31.732 |             0 s|\n",
      "|           1000 |         0.52727 |      285.864 μs|\n",
      "|           2000 |        0.071144 |      324.965 μs|\n",
      "|           3000 |       0.0096186 |      272.989 μs|\n",
      "|           4000 |       0.0013004 |      326.872 μs|\n",
      "|           5000 |      0.00017582 |      274.897 μs|\n",
      "|           6000 |      2.3771e-05 |      275.135 μs|\n",
      "|           7000 |      3.2138e-06 |      272.989 μs|\n",
      "|           8000 |      4.3451e-07 |       275.85 μs|\n",
      "|           9000 |      5.8745e-08 |      285.864 μs|\n",
      "+----------------+-----------------+----------------+\n",
      "➛ Final objective: 7.958262477606792e-09\n",
      "➛ Total runtime: 3.20679 s\n",
      "➛ All done!\n",
      "\n"
     ]
    }
   ],
   "source": [
    "opt = descent.sgd(f_df, theta_init)\n",
    "opt.display.every = 1000\n",
    "opt.run(maxiter=1e4)"
   ]
  },
  {
   "cell_type": "markdown",
   "metadata": {},
   "source": [
    "## Interrupts"
   ]
  },
  {
   "cell_type": "code",
   "execution_count": 60,
   "metadata": {
    "collapsed": false
   },
   "outputs": [
    {
     "name": "stdout",
     "output_type": "stream",
     "text": [
      "+----------------+-----------------+----------------+\n",
      "|Iteration       | Objective       | Runtime        |\n",
      "+----------------+-----------------+----------------+\n",
      "|              0 |          31.732 |             0 s|\n",
      "|           1000 |         0.52727 |      271.082 μs|\n",
      "|           2000 |        0.071144 |      326.157 μs|\n",
      "|           3000 |       0.0096186 |      338.078 μs|\n",
      "|           4000 |       0.0013004 |      426.054 μs|\n",
      "|           5000 |      0.00017582 |      405.073 μs|\n",
      "|           6000 |      2.3771e-05 |      306.129 μs|\n",
      "|           7000 |      3.2138e-06 |      385.046 μs|\n",
      "|           8000 |      4.3451e-07 |      386.953 μs|\n",
      "|           9000 |      5.8745e-08 |      381.947 μs|\n",
      "+----------------+-----------------+----------------+\n",
      "➛ Final objective: 3.059645471663519e-08\n",
      "➛ Total runtime: 3.29281 s\n",
      "➛ All done!\n",
      "\n"
     ]
    }
   ],
   "source": [
    "opt = descent.sgd(f_df, theta_init)\n",
    "opt.display.every = 1000\n",
    "opt.run(maxiter=1e5)"
   ]
  },
  {
   "cell_type": "code",
   "execution_count": null,
   "metadata": {
    "collapsed": true
   },
   "outputs": [],
   "source": []
  }
 ],
 "metadata": {
  "kernelspec": {
   "display_name": "Python 3",
   "language": "python",
   "name": "python3"
  },
  "language_info": {
   "codemirror_mode": {
    "name": "ipython",
    "version": 3
   },
   "file_extension": ".py",
   "mimetype": "text/x-python",
   "name": "python",
   "nbconvert_exporter": "python",
   "pygments_lexer": "ipython3",
   "version": "3.5.0"
  }
 },
 "nbformat": 4,
 "nbformat_minor": 0
}
