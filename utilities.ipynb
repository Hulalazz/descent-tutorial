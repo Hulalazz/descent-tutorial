{
 "cells": [
  {
   "cell_type": "code",
   "execution_count": 1,
   "metadata": {
    "collapsed": false
   },
   "outputs": [
    {
     "name": "stderr",
     "output_type": "stream",
     "text": [
      "/usr/local/lib/python3.5/site-packages/matplotlib-1.5.dev1-py3.5-macosx-10.11-x86_64.egg/matplotlib/__init__.py:867: UserWarning: axes.color_cycle is deprecated and replaced with axes.prop_cycle; please use the latter.\n",
      "  warnings.warn(self.msg_depr % (key, alt_key))\n"
     ]
    }
   ],
   "source": [
    "# imports\n",
    "import numpy as np\n",
    "import matplotlib.pyplot as plt\n",
    "import descent\n",
    "from ipywidgets import interact\n",
    "%matplotlib inline"
   ]
  },
  {
   "cell_type": "markdown",
   "metadata": {},
   "source": [
    "# Helper utilities"
   ]
  },
  {
   "cell_type": "markdown",
   "metadata": {},
   "source": [
    "Demonstrations of some useful helper functions and utilities in `descent`:"
   ]
  },
  {
   "cell_type": "markdown",
   "metadata": {},
   "source": [
    "## Numerical gradient checks"
   ]
  },
  {
   "cell_type": "markdown",
   "metadata": {},
   "source": [
    "Checks the given (analytic) objective and gradient function with a numerical comparison:\n",
    "\n",
    "$$ \\frac{f(x + \\delta x) - f(x)}{\\delta x} \\approx \\frac{\\partial f}{\\partial x} $$"
   ]
  },
  {
   "cell_type": "code",
   "execution_count": 2,
   "metadata": {
    "collapsed": true
   },
   "outputs": [],
   "source": [
    "def f_df(x):\n",
    "    objective = 0.5 * np.linalg.norm(x)**2\n",
    "    gradient = x.copy()\n",
    "    gradient[4] = 5.     # Error! incorrect gradient here\n",
    "    return objective, gradient"
   ]
  },
  {
   "cell_type": "code",
   "execution_count": 3,
   "metadata": {
    "collapsed": false
   },
   "outputs": [
    {
     "name": "stdout",
     "output_type": "stream",
     "text": [
      "------------------------------------\n",
      "Numerical  | Analytic   | Error          \n",
      "------------------------------------\n",
      "-0.7005    | -0.7005    | 0.000000 | \u001b[32m✔\u001b[0m\n",
      "0.4443     | 0.4443     | 0.000000 | \u001b[32m✔\u001b[0m\n",
      "-1.1194    | -1.1194    | 0.000000 | \u001b[32m✔\u001b[0m\n",
      "0.5405     | 0.5405     | 0.000000 | \u001b[32m✔\u001b[0m\n",
      "0.0658     | 5.0000     | 0.974004 | \u001b[31m✗\u001b[0m\n",
      "0.6500     | 0.6500     | 0.000000 | \u001b[32m✔\u001b[0m\n",
      "-1.2726    | -1.2726    | 0.000000 | \u001b[32m✔\u001b[0m\n",
      "0.1944     | 0.1944     | 0.000000 | \u001b[32m✔\u001b[0m\n",
      "1.2779     | 1.2779     | 0.000000 | \u001b[32m✔\u001b[0m\n",
      "-0.4541    | -0.4541    | 0.000000 | \u001b[32m✔\u001b[0m\n"
     ]
    }
   ],
   "source": [
    "x0 = np.random.randn(10)\n",
    "descent.check_grad(f_df, x0)"
   ]
  },
  {
   "cell_type": "markdown",
   "metadata": {},
   "source": [
    "## Function wrapping"
   ]
  },
  {
   "cell_type": "code",
   "execution_count": 4,
   "metadata": {
    "collapsed": true
   },
   "outputs": [],
   "source": [
    "A = np.random.randn(10,5)\n",
    "def f_df(theta):\n",
    "    objective = 0.5 * np.linalg.norm(A.dot(theta['w']) - theta['b']) ** 2\n",
    "    gradient = dict()\n",
    "    gradient['w'] = A.T.dot(A.dot(theta['w']) - theta['b'])\n",
    "    gradient['b'] = theta['b'] - A.dot(theta['w'])\n",
    "    return objective, gradient"
   ]
  },
  {
   "cell_type": "code",
   "execution_count": 5,
   "metadata": {
    "collapsed": false
   },
   "outputs": [],
   "source": [
    "theta_init = {'w': np.random.randn(5,), 'b': np.random.randn(10,)}"
   ]
  },
  {
   "cell_type": "code",
   "execution_count": 6,
   "metadata": {
    "collapsed": false
   },
   "outputs": [
    {
     "name": "stdout",
     "output_type": "stream",
     "text": [
      "------------------------------------\n",
      "Numerical  | Analytic   | Error          \n",
      "------------------------------------\n",
      "2.0733     | 2.0733     | 0.000000 | \u001b[32m✔\u001b[0m\n",
      "1.1768     | 1.1768     | 0.000000 | \u001b[32m✔\u001b[0m\n",
      "0.0067     | 0.0067     | 0.000000 | \u001b[32m✔\u001b[0m\n",
      "3.5532     | 3.5532     | 0.000000 | \u001b[32m✔\u001b[0m\n",
      "-1.1525    | -1.1525    | 0.000000 | \u001b[32m✔\u001b[0m\n",
      "-1.5507    | -1.5507    | 0.000000 | \u001b[32m✔\u001b[0m\n",
      "-0.5462    | -0.5462    | 0.000000 | \u001b[32m✔\u001b[0m\n",
      "1.7602     | 1.7602     | 0.000000 | \u001b[32m✔\u001b[0m\n",
      "0.0614     | 0.0614     | 0.000000 | \u001b[32m✔\u001b[0m\n",
      "6.0380     | 6.0380     | 0.000000 | \u001b[32m✔\u001b[0m\n",
      "11.2097    | 11.2097    | 0.000000 | \u001b[32m✔\u001b[0m\n",
      "-14.0068   | -14.0068   | 0.000000 | \u001b[32m✔\u001b[0m\n",
      "-5.5207    | -5.5207    | 0.000000 | \u001b[32m✔\u001b[0m\n",
      "5.0117     | 5.0117     | 0.000000 | \u001b[32m✔\u001b[0m\n",
      "21.1382    | 21.1382    | 0.000000 | \u001b[32m✔\u001b[0m\n"
     ]
    }
   ],
   "source": [
    "descent.check_grad(f_df, theta_init)"
   ]
  },
  {
   "cell_type": "code",
   "execution_count": 7,
   "metadata": {
    "collapsed": false
   },
   "outputs": [
    {
     "name": "stdout",
     "output_type": "stream",
     "text": [
      "+-------------------+--------------------+-------------------+\n",
      "|Iteration          | Objective          | Iteration runtime |\n",
      "+-------------------+--------------------+-------------------+\n",
      "|              1000 |            0.10456 |         358.105 μs|\n",
      "|              2000 |           0.014125 |         468.969 μs|\n",
      "|              3000 |          0.0019097 |         662.804 μs|\n",
      "|              4000 |         0.00025819 |         347.137 μs|\n",
      "|              5000 |         3.4907e-05 |         351.906 μs|\n",
      "|              6000 |         4.7194e-06 |         362.873 μs|\n",
      "|              7000 |         6.3806e-07 |         350.952 μs|\n",
      "|              8000 |         8.6266e-08 |         357.151 μs|\n",
      "|              9000 |         1.1663e-08 |         386.953 μs|\n",
      "+-------------------+--------------------+-------------------+\n",
      "➛ Final objective: 1.5800150781506989e-09\n",
      "➛ Total runtime: 4.0832 s\n",
      "➛ Per iteration runtime: 408.32 μs +/- 100.442 μs\n",
      "➛ All done!\n",
      "\n"
     ]
    }
   ],
   "source": [
    "opt = descent.GradientDescent(f_df, theta_init)\n",
    "opt.display.every = 1000\n",
    "opt.run(maxiter=1e4)"
   ]
  },
  {
   "cell_type": "markdown",
   "metadata": {},
   "source": [
    "## Interrupts"
   ]
  },
  {
   "cell_type": "code",
   "execution_count": 8,
   "metadata": {
    "collapsed": false
   },
   "outputs": [
    {
     "name": "stdout",
     "output_type": "stream",
     "text": [
      "+-------------------+--------------------+-------------------+\n",
      "|Iteration          | Objective          | Iteration runtime |\n",
      "+-------------------+--------------------+-------------------+\n",
      "|              1000 |            0.10456 |         416.994 μs|\n",
      "|              2000 |           0.014125 |         399.113 μs|\n",
      "|              3000 |          0.0019097 |         488.043 μs|\n",
      "|              4000 |         0.00025819 |         383.139 μs|\n",
      "|              5000 |         3.4907e-05 |         408.888 μs|\n",
      "|              6000 |         4.7194e-06 |         385.046 μs|\n",
      "+-------------------+--------------------+-------------------+\n",
      "➛ Final objective: 1.6638919918461295e-06\n",
      "➛ Total runtime: 2.81102 s\n",
      "➛ Per iteration runtime: 431.006 μs +/- 96.423 μs\n",
      "➛ All done!\n",
      "\n"
     ]
    }
   ],
   "source": [
    "opt = descent.GradientDescent(f_df, theta_init)\n",
    "opt.display.every = 1000\n",
    "opt.run(maxiter=1e5)"
   ]
  },
  {
   "cell_type": "code",
   "execution_count": null,
   "metadata": {
    "collapsed": true
   },
   "outputs": [],
   "source": [
    "opt"
   ]
  },
  {
   "cell_type": "code",
   "execution_count": 10,
   "metadata": {
    "collapsed": false
   },
   "outputs": [
    {
     "name": "stdout",
     "output_type": "stream",
     "text": [
      "+-------------------+--------------------+-------------------+\n",
      "|Iteration          | Objective          | Iteration runtime |\n",
      "+-------------------+--------------------+-------------------+\n",
      "|              7000 |         6.3806e-07 |         348.091 μs|\n",
      "|              8000 |         8.6266e-08 |         375.032 μs|\n",
      "|              9000 |         1.1663e-08 |          474.93 μs|\n",
      "|             10000 |         1.5769e-09 |         370.026 μs|\n",
      "|             11000 |         2.1319e-10 |         494.003 μs|\n",
      "|             12000 |         2.8823e-11 |         344.992 μs|\n",
      "|             13000 |         3.8969e-12 |         365.973 μs|\n",
      "|             14000 |         5.2686e-13 |         378.132 μs|\n",
      "|             15000 |         7.1232e-14 |         355.959 μs|\n",
      "|             16000 |         9.6305e-15 |         414.133 μs|\n",
      "+-------------------+--------------------+-------------------+\n",
      "➛ Final objective: 3.3953898314088257e-15\n",
      "➛ Total runtime: 7.05847 s\n",
      "➛ Per iteration runtime: 427.216 μs +/- 94.8643 μs\n",
      "➛ All done!\n",
      "\n"
     ]
    }
   ],
   "source": [
    "opt.run(10000)"
   ]
  }
 ],
 "metadata": {
  "kernelspec": {
   "display_name": "Python 3",
   "language": "python",
   "name": "python3"
  },
  "language_info": {
   "codemirror_mode": {
    "name": "ipython",
    "version": 3
   },
   "file_extension": ".py",
   "mimetype": "text/x-python",
   "name": "python",
   "nbconvert_exporter": "python",
   "pygments_lexer": "ipython3",
   "version": "3.5.0"
  }
 },
 "nbformat": 4,
 "nbformat_minor": 0
}
