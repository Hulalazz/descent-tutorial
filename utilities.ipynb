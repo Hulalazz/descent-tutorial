{
 "cells": [
  {
   "cell_type": "code",
   "execution_count": 1,
   "metadata": {
    "collapsed": false
   },
   "outputs": [],
   "source": [
    "# imports\n",
    "import numpy as np\n",
    "import matplotlib.pyplot as plt\n",
    "import descent\n",
    "from ipywidgets import interact\n",
    "\n",
    "plt.style.use(['ocean', 'seaborn-notebook'])\n",
    "%matplotlib inline"
   ]
  },
  {
   "cell_type": "markdown",
   "metadata": {},
   "source": [
    "# Helper utilities"
   ]
  },
  {
   "cell_type": "markdown",
   "metadata": {},
   "source": [
    "Demonstrations of some useful helper functions and utilities in `descent`:"
   ]
  },
  {
   "cell_type": "markdown",
   "metadata": {},
   "source": [
    "## Numerical gradient checks"
   ]
  },
  {
   "cell_type": "markdown",
   "metadata": {},
   "source": [
    "Checks the given (analytic) objective and gradient function with a numerical comparison:\n",
    "\n",
    "$$ \\frac{f(x + \\delta x) - f(x)}{\\delta x} \\approx \\frac{\\partial f}{\\partial x} $$"
   ]
  },
  {
   "cell_type": "code",
   "execution_count": 2,
   "metadata": {
    "collapsed": true
   },
   "outputs": [],
   "source": [
    "def f_df(x):\n",
    "    objective = 0.5 * np.linalg.norm(x)**2\n",
    "    gradient = x.copy()\n",
    "    gradient[4] = 5.     # Error! incorrect gradient here\n",
    "    return objective, gradient"
   ]
  },
  {
   "cell_type": "code",
   "execution_count": 3,
   "metadata": {
    "collapsed": false
   },
   "outputs": [
    {
     "name": "stdout",
     "output_type": "stream",
     "text": [
      "+---------------+---------------+---------------+\n",
      "|   Numerical   |   Analytic    |     Error     |\n",
      "+---------------+---------------+---------------+\n",
      "|         1.1457|         1.1457|    \u001b[92m2.350e-10\u001b[0m \u001b[32m✓\u001b[0m|\n",
      "|        -1.0136|        -1.0136|    \u001b[92m5.219e-10\u001b[0m \u001b[32m✓\u001b[0m|\n",
      "|        -2.1064|        -2.1064|    \u001b[92m4.612e-11\u001b[0m \u001b[32m✓\u001b[0m|\n",
      "|        0.48629|        0.48629|    \u001b[92m2.568e-10\u001b[0m \u001b[32m✓\u001b[0m|\n",
      "|        -1.6413|              5|    \u001b[91m1.000e+00\u001b[0m \u001b[31m✗\u001b[0m|\n",
      "|       -0.49855|       -0.49855|    \u001b[92m4.600e-10\u001b[0m \u001b[32m✓\u001b[0m|\n",
      "|        0.88376|        0.88376|    \u001b[92m2.479e-10\u001b[0m \u001b[32m✓\u001b[0m|\n",
      "|        0.72003|        0.72003|    \u001b[92m5.598e-10\u001b[0m \u001b[32m✓\u001b[0m|\n",
      "|         1.5633|         1.5633|    \u001b[92m1.616e-10\u001b[0m \u001b[32m✓\u001b[0m|\n",
      "|        0.80923|        0.80923|    \u001b[92m2.940e-10\u001b[0m \u001b[32m✓\u001b[0m|\n",
      "+---------------+---------------+---------------+\n"
     ]
    }
   ],
   "source": [
    "x0 = np.random.randn(10)\n",
    "descent.check_grad(f_df, x0, style='grid')"
   ]
  },
  {
   "cell_type": "markdown",
   "metadata": {},
   "source": [
    "## Function wrapping"
   ]
  },
  {
   "cell_type": "code",
   "execution_count": 4,
   "metadata": {
    "collapsed": true
   },
   "outputs": [],
   "source": [
    "A = np.random.randn(10,5)\n",
    "def f_df(theta):\n",
    "    objective = 0.5 * np.linalg.norm(A.dot(theta['w']) - theta['b']) ** 2\n",
    "    gradient = dict()\n",
    "    gradient['w'] = A.T.dot(A.dot(theta['w']) - theta['b'])\n",
    "    gradient['b'] = theta['b'] - A.dot(theta['w'])\n",
    "    return objective, gradient"
   ]
  },
  {
   "cell_type": "code",
   "execution_count": 5,
   "metadata": {
    "collapsed": false
   },
   "outputs": [],
   "source": [
    "theta_init = {'w': np.random.randn(5,), 'b': np.random.randn(10,)}"
   ]
  },
  {
   "cell_type": "code",
   "execution_count": 6,
   "metadata": {
    "collapsed": false
   },
   "outputs": [
    {
     "name": "stdout",
     "output_type": "stream",
     "text": [
      "+---------------+---------------+---------------+\n",
      "|   Numerical   |   Analytic    |     Error     |\n",
      "+---------------+---------------+---------------+\n",
      "|        0.96965|        0.96965|    \u001b[92m8.457e-10\u001b[0m \u001b[32m✓\u001b[0m|\n",
      "|        -2.2092|        -2.2092|    \u001b[92m1.942e-10\u001b[0m \u001b[32m✓\u001b[0m|\n",
      "|          1.623|          1.623|    \u001b[92m5.464e-10\u001b[0m \u001b[32m✓\u001b[0m|\n",
      "|       -0.85081|       -0.85081|    \u001b[92m1.743e-09\u001b[0m \u001b[32m✓\u001b[0m|\n",
      "|        -3.4339|        -3.4339|    \u001b[92m3.638e-11\u001b[0m \u001b[32m✓\u001b[0m|\n",
      "|       -0.36753|       -0.36753|    \u001b[92m4.385e-09\u001b[0m \u001b[32m✓\u001b[0m|\n",
      "|         2.4502|         2.4502|    \u001b[92m1.517e-10\u001b[0m \u001b[32m✓\u001b[0m|\n",
      "|        -1.0157|        -1.0157|    \u001b[92m2.843e-09\u001b[0m \u001b[32m✓\u001b[0m|\n",
      "|        0.34199|        0.34199|    \u001b[92m3.445e-09\u001b[0m \u001b[32m✓\u001b[0m|\n",
      "|            4.2|            4.2|    \u001b[92m2.059e-11\u001b[0m \u001b[32m✓\u001b[0m|\n",
      "|        -2.7002|        -2.7002|    \u001b[92m2.279e-10\u001b[0m \u001b[32m✓\u001b[0m|\n",
      "|        -4.2531|        -4.2531|    \u001b[92m1.093e-11\u001b[0m \u001b[32m✓\u001b[0m|\n",
      "|        -21.915|        -21.915|    \u001b[92m4.910e-12\u001b[0m \u001b[32m✓\u001b[0m|\n",
      "|         7.7408|         7.7408|    \u001b[92m1.339e-10\u001b[0m \u001b[32m✓\u001b[0m|\n",
      "|          1.169|          1.169|    \u001b[92m7.827e-10\u001b[0m \u001b[32m✓\u001b[0m|\n",
      "+---------------+---------------+---------------+\n"
     ]
    }
   ],
   "source": [
    "descent.check_grad(f_df, theta_init, style='grid')"
   ]
  },
  {
   "cell_type": "code",
   "execution_count": 13,
   "metadata": {
    "collapsed": false
   },
   "outputs": [
    {
     "data": {
      "text/plain": [
       "{'b': array([ 0.35583133,  1.03033417, -0.97902932,  0.56691045,  1.65152562,\n",
       "         0.4426982 ,  0.86465542,  1.75014944,  0.46537717,  0.81386008]),\n",
       " 'w': array([ 0.47234534, -0.33726185, -0.27469297,  0.10492002, -0.91796569])}"
      ]
     },
     "execution_count": 13,
     "metadata": {},
     "output_type": "execute_result"
    }
   ],
   "source": [
    "opt = descent.sgd().minimize(f_df, theta_init, display=None, maxiter=1e4)\n",
    "opt.x"
   ]
  }
 ],
 "metadata": {
  "anaconda-cloud": {},
  "kernelspec": {
   "display_name": "Python [default]",
   "language": "python",
   "name": "python3"
  },
  "language_info": {
   "codemirror_mode": {
    "name": "ipython",
    "version": 3
   },
   "file_extension": ".py",
   "mimetype": "text/x-python",
   "name": "python",
   "nbconvert_exporter": "python",
   "pygments_lexer": "ipython3",
   "version": "3.5.2"
  }
 },
 "nbformat": 4,
 "nbformat_minor": 0
}
