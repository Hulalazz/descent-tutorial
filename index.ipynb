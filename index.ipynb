{
 "cells": [
  {
   "cell_type": "markdown",
   "metadata": {
    "collapsed": true
   },
   "source": [
    "# Optimization using the descent package"
   ]
  },
  {
   "cell_type": "markdown",
   "metadata": {},
   "source": [
    "Niru Maheswaranathan ([nirum@stanford.edu](mailto:nirum@stanford.edu))\n",
    "\n",
    "Oct. 9, 2015"
   ]
  },
  {
   "cell_type": "markdown",
   "metadata": {},
   "source": [
    "## Table of Contents"
   ]
  },
  {
   "cell_type": "markdown",
   "metadata": {},
   "source": [
    "1. [Introduction](introduction.ipynb)\n",
    "2. Toy examples\n",
    "  1. [Logistic regression](logistic regression.ipynb)\n",
    "  1. [Sparse linear regression](sparse recovery.ipynb)\n",
    "  2. [Matrix approximation](matrix approximation.ipynb)\n",
    "3. Neural data analysis examples\n",
    "  1. [Receptive field estimation / image denoising](rf estimation.ipynb)\n",
    "  2. ??\n",
    "  3. ??\n",
    "4. Documentation, Issues, etc."
   ]
  }
 ],
 "metadata": {
  "kernelspec": {
   "display_name": "Python 3",
   "language": "python",
   "name": "python3"
  },
  "language_info": {
   "codemirror_mode": {
    "name": "ipython",
    "version": 3
   },
   "file_extension": ".py",
   "mimetype": "text/x-python",
   "name": "python",
   "nbconvert_exporter": "python",
   "pygments_lexer": "ipython3",
   "version": "3.5.0"
  }
 },
 "nbformat": 4,
 "nbformat_minor": 0
}
