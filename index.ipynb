{
 "cells": [
  {
   "cell_type": "markdown",
   "metadata": {
    "collapsed": true
   },
   "source": [
    "# Optimization using the descent package"
   ]
  },
  {
   "cell_type": "markdown",
   "metadata": {},
   "source": [
    "Niru Maheswaranathan ([nirum@stanford.edu](mailto:nirum@stanford.edu))\n",
    "\n",
    "Oct. 14, 2015"
   ]
  },
  {
   "cell_type": "markdown",
   "metadata": {},
   "source": [
    "## About"
   ]
  },
  {
   "cell_type": "markdown",
   "metadata": {},
   "source": [
    "Descent is a package for performing mathematical optimization. It has algorithms for first-order gradient based optimization as well as proximal algorithms for constrained and distributed optimization.\n",
    "\n",
    "Features of descent:\n",
    "- Optimization using proximal algorithms\n",
    "- Non-smooth and constrained optimization\n",
    "- Stochastic optimization\n",
    "- Easily extensible (custom callbacks, storage and display options)\n",
    "- Plus a few useful utilities"
   ]
  },
  {
   "cell_type": "markdown",
   "metadata": {},
   "source": [
    "## Related packages"
   ]
  },
  {
   "cell_type": "markdown",
   "metadata": {},
   "source": [
    "- [`scipy.optimize`](http://docs.scipy.org/doc/scipy/reference/optimize.html) - smooth problems with simple constraints\n",
    "- [`cvxpy` (python)](http://www.cvxpy.org/en/latest/) and [`cvx` (matlab)](http://cvxr.com/cvx/) - small problems\n",
    "- [JuliaOpt](http://juliaopt.org/) - new, under active development"
   ]
  },
  {
   "cell_type": "markdown",
   "metadata": {},
   "source": [
    "## Table of Contents"
   ]
  },
  {
   "cell_type": "markdown",
   "metadata": {},
   "source": [
    "1. [Introduction](introduction.ipynb)\n",
    "2. [Logistic regression](logistic regression.ipynb)\n",
    "3. [Sparse linear regression](sparse recovery.ipynb)\n",
    "4. [Receptive field estimation / image denoising](RF Estimation.ipynb)\n",
    "5. [Useful little utilities](utilities.ipynb)"
   ]
  },
  {
   "cell_type": "markdown",
   "metadata": {},
   "source": [
    "## Documentation, issues, etc."
   ]
  },
  {
   "cell_type": "markdown",
   "metadata": {},
   "source": [
    "You can find [documentation](https://descent.readthedocs.org/) at readthedocs.\n",
    "\n",
    "Please [submit an issue](https://github.com/nirum/descent/issues/) on Github if you have trouble or want to see a feature added."
   ]
  }
 ],
 "metadata": {
  "anaconda-cloud": {},
  "kernelspec": {
   "display_name": "Python [default]",
   "language": "python",
   "name": "python3"
  },
  "language_info": {
   "codemirror_mode": {
    "name": "ipython",
    "version": 3
   },
   "file_extension": ".py",
   "mimetype": "text/x-python",
   "name": "python",
   "nbconvert_exporter": "python",
   "pygments_lexer": "ipython3",
   "version": "3.5.2"
  }
 },
 "nbformat": 4,
 "nbformat_minor": 0
}
